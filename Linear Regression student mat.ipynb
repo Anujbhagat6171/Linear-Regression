{
 "cells": [
  {
   "cell_type": "code",
   "execution_count": 21,
   "id": "2324abc4",
   "metadata": {},
   "outputs": [],
   "source": [
    "import pandas as pd\n",
    "import numpy as np\n",
    "import sklearn\n",
    "from sklearn import linear_model\n",
    "from sklearn.utils import shuffle\n",
    "import seaborn as sn"
   ]
  },
  {
   "cell_type": "code",
   "execution_count": 3,
   "id": "56f745c3",
   "metadata": {},
   "outputs": [],
   "source": [
    "data = pd.read_csv(\"student-mat.csv\", sep=\";\")"
   ]
  },
  {
   "cell_type": "code",
   "execution_count": 4,
   "id": "37395253",
   "metadata": {},
   "outputs": [
    {
     "name": "stdout",
     "output_type": "stream",
     "text": [
      "  school sex  age address famsize Pstatus  Medu  Fedu     Mjob      Fjob  ...  \\\n",
      "0     GP   F   18       U     GT3       A     4     4  at_home   teacher  ...   \n",
      "1     GP   F   17       U     GT3       T     1     1  at_home     other  ...   \n",
      "2     GP   F   15       U     LE3       T     1     1  at_home     other  ...   \n",
      "3     GP   F   15       U     GT3       T     4     2   health  services  ...   \n",
      "4     GP   F   16       U     GT3       T     3     3    other     other  ...   \n",
      "\n",
      "  famrel freetime  goout  Dalc  Walc health absences  G1  G2  G3  \n",
      "0      4        3      4     1     1      3        6   5   6   6  \n",
      "1      5        3      3     1     1      3        4   5   5   6  \n",
      "2      4        3      2     2     3      3       10   7   8  10  \n",
      "3      3        2      2     1     1      5        2  15  14  15  \n",
      "4      4        3      2     1     2      5        4   6  10  10  \n",
      "\n",
      "[5 rows x 33 columns]\n"
     ]
    }
   ],
   "source": [
    "print(data.head(5))"
   ]
  },
  {
   "cell_type": "code",
   "execution_count": 5,
   "id": "3d4bfdae",
   "metadata": {},
   "outputs": [],
   "source": [
    "data= data[[\"G1\",\"G2\",\"G3\",\"studytime\", \"failures\", \"absences\"]]"
   ]
  },
  {
   "cell_type": "code",
   "execution_count": 10,
   "id": "1f4564f5",
   "metadata": {},
   "outputs": [
    {
     "name": "stderr",
     "output_type": "stream",
     "text": [
      "C:\\Users\\Admin\\AppData\\Local\\Temp\\ipykernel_8128\\2008579568.py:2: FutureWarning: In a future version of pandas all arguments of DataFrame.drop except for the argument 'labels' will be keyword-only.\n",
      "  X= np.array(data.drop([predict],1))\n"
     ]
    }
   ],
   "source": [
    "predict= \"G3\"\n",
    "X= np.array(data.drop([predict],1))\n",
    "y= np.array(data[predict])"
   ]
  },
  {
   "cell_type": "code",
   "execution_count": 11,
   "id": "6fc5a9f8",
   "metadata": {},
   "outputs": [],
   "source": [
    "x_train, x_test, y_train, y_test = sklearn.model_selection.train_test_split(X,y,test_size=0.1)"
   ]
  },
  {
   "cell_type": "code",
   "execution_count": 12,
   "id": "f98fac2b",
   "metadata": {},
   "outputs": [],
   "source": [
    "linear = linear_model.LinearRegression()\n"
   ]
  },
  {
   "cell_type": "code",
   "execution_count": 13,
   "id": "bc4405f0",
   "metadata": {},
   "outputs": [],
   "source": [
    "linear.fit(x_train,y_train)\n",
    "acc = linear.score(x_test, y_test)"
   ]
  },
  {
   "cell_type": "code",
   "execution_count": 14,
   "id": "a3eddc6d",
   "metadata": {},
   "outputs": [
    {
     "name": "stdout",
     "output_type": "stream",
     "text": [
      "0.8946531437184126\n"
     ]
    }
   ],
   "source": [
    "print(acc)"
   ]
  },
  {
   "cell_type": "code",
   "execution_count": 15,
   "id": "c486cdf7",
   "metadata": {},
   "outputs": [
    {
     "name": "stdout",
     "output_type": "stream",
     "text": [
      "coefficient:\n",
      " [ 0.16511465  0.97048002 -0.21391701 -0.33177848  0.03609847]\n",
      "Intercept:\n",
      " -1.4668902086817504\n"
     ]
    }
   ],
   "source": [
    "print('coefficient:\\n', linear.coef_)\n",
    "print('Intercept:\\n', linear.intercept_)"
   ]
  },
  {
   "cell_type": "code",
   "execution_count": 17,
   "id": "af7eb64e",
   "metadata": {},
   "outputs": [],
   "source": [
    "predictions = linear.predict(x_test)"
   ]
  },
  {
   "cell_type": "code",
   "execution_count": 18,
   "id": "96ecc273",
   "metadata": {},
   "outputs": [
    {
     "name": "stdout",
     "output_type": "stream",
     "text": [
      "6.79032023384671 [9 8 1 3 6] 10\n",
      "9.727740381240213 [11 10  2  1 12] 10\n",
      "14.457503674287999 [15 14  2  0  8] 14\n",
      "12.237790507734385 [12 12  2  0 14] 12\n",
      "-1.6839055677892474 [4 0 1 2 0] 0\n",
      "7.949734023893354 [7 9 1 1 2] 8\n",
      "7.2165655997386615 [8 8 1 1 4] 8\n",
      "8.828332649264159 [9 9 1 0 8] 10\n",
      "7.478820967824012 [8 8 2 0 8] 6\n",
      "9.533419481563646 [10 10  2  0  2] 10\n",
      "7.123183901986067 [ 8  8  4  0 10] 8\n",
      "15.211392859605315 [15 15  2  0  2] 16\n",
      "14.974081260965654 [14 15  2  0  0] 15\n",
      "12.420952090065768 [14 12  1  0  4] 11\n",
      "5.699353779281936 [5 8 2 3 0] 7\n",
      "9.161235786537343 [11  9  2  0 14] 9\n",
      "8.851727242072005 [10  9  2  0 10] 10\n",
      "10.596817211346302 [11 11  2  0  0] 10\n",
      "15.283589805430996 [15 15  2  0  4] 15\n",
      "3.7445209361500993 [ 6  5  1  3 16] 5\n",
      "9.247305529906155 [10 10  3  0  0] 9\n",
      "4.634318527418813 [7 6 1 2 0] 0\n",
      "12.940203508388647 [13 13  2  0  2] 13\n",
      "10.101473252904356 [ 8 11  2  0  0] 11\n",
      "12.702891909748988 [12 13  2  0  0] 13\n",
      "15.667969127367233 [16 15  3  0 16] 15\n",
      "8.965878577296023 [ 7 10  2  0  0] 11\n",
      "16.34698753521365 [16 16  2  0  2] 16\n",
      "5.770998388900698 [7 7 4 0 4] 6\n",
      "9.440501774575342 [ 9 10  2  0  4] 10\n",
      "10.934407347666845 [10 11  1  0  8] 10\n",
      "15.12916586531987 [16 15  4  0  7] 17\n",
      "16.34698753521365 [16 16  2  0  2] 17\n",
      "20.091361698359194 [18 19  1  0 10] 19\n",
      "15.139195913779638 [15 15  2  0  0] 15\n",
      "9.84025419438376 [11 10  1  0  0] 10\n",
      "11.730862710316794 [14 12  2  1  0] 12\n",
      "11.781214239972467 [11 12  1  0  0] 10\n",
      "6.0990224675257645 [ 6  7  2  1 15] 8\n",
      "8.23271015314133 [8 9 2 0 2] 10\n"
     ]
    }
   ],
   "source": [
    "for x in range(len(predictions)):\n",
    "    print(predictions[x], x_test[x], y_test[x])"
   ]
  },
  {
   "cell_type": "code",
   "execution_count": 19,
   "id": "bb0744bb",
   "metadata": {},
   "outputs": [
    {
     "name": "stdout",
     "output_type": "stream",
     "text": [
      "     G1  G2  G3  studytime  failures  absences\n",
      "0     5   6   6          2         0         6\n",
      "1     5   5   6          2         0         4\n",
      "2     7   8  10          2         3        10\n",
      "3    15  14  15          3         0         2\n",
      "4     6  10  10          2         0         4\n",
      "..   ..  ..  ..        ...       ...       ...\n",
      "390   9   9   9          2         2        11\n",
      "391  14  16  16          1         0         3\n",
      "392  10   8   7          1         3         3\n",
      "393  11  12  10          1         0         0\n",
      "394   8   9   9          1         0         5\n",
      "\n",
      "[395 rows x 6 columns]\n"
     ]
    }
   ],
   "source": [
    "print(data)"
   ]
  },
  {
   "cell_type": "code",
   "execution_count": 22,
   "id": "7f16d388",
   "metadata": {},
   "outputs": [
    {
     "data": {
      "text/plain": [
       "<function seaborn.matrix.heatmap(data, *, vmin=None, vmax=None, cmap=None, center=None, robust=False, annot=None, fmt='.2g', annot_kws=None, linewidths=0, linecolor='white', cbar=True, cbar_kws=None, cbar_ax=None, square=False, xticklabels='auto', yticklabels='auto', mask=None, ax=None, **kwargs)>"
      ]
     },
     "execution_count": 22,
     "metadata": {},
     "output_type": "execute_result"
    }
   ],
   "source": [
    "sn.heatmap"
   ]
  },
  {
   "cell_type": "code",
   "execution_count": null,
   "id": "a5c0f537",
   "metadata": {},
   "outputs": [],
   "source": []
  }
 ],
 "metadata": {
  "kernelspec": {
   "display_name": "Python 3 (ipykernel)",
   "language": "python",
   "name": "python3"
  },
  "language_info": {
   "codemirror_mode": {
    "name": "ipython",
    "version": 3
   },
   "file_extension": ".py",
   "mimetype": "text/x-python",
   "name": "python",
   "nbconvert_exporter": "python",
   "pygments_lexer": "ipython3",
   "version": "3.9.12"
  }
 },
 "nbformat": 4,
 "nbformat_minor": 5
}
